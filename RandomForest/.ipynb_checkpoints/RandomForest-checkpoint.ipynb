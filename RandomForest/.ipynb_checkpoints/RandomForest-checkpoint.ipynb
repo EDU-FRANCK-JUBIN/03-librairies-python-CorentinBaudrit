{
 "cells": [
  {
   "cell_type": "code",
   "execution_count": 49,
   "metadata": {},
   "outputs": [
    {
     "name": "stdout",
     "output_type": "stream",
     "text": [
      "Train groupe shape:  (13903, 16)\n",
      "Test group shape:  (3476, 16)\n"
     ]
    }
   ],
   "source": [
    "import numpy as np\n",
    "import os,sys\n",
    "import numpy as np\n",
    "from sklearn import linear_model\n",
    "from sklearn.metrics import roc_auc_score\n",
    "from sklearn.ensemble import RandomForestClassifier\n",
    "from sklearn.model_selection import train_test_split, cross_val_score\n",
    "import pandas as pd\n",
    "from scipy import stats\n",
    "\n",
    "\n",
    "\n",
    "data = pd.read_csv(\"hour.csv\") \n",
    "df = pd.DataFrame(data)\n",
    "y=np.array(data['weathersit'])\n",
    "\n",
    "#Supression de la colone de la date parce que ça sert à rien et ça fait que des problemes\n",
    "del df['dteday']\n",
    "\n",
    "\n",
    "\n",
    "#Désactivation d'un warning infos ici : https://bit.ly/39Bx6ix\n",
    "pd.options.mode.chained_assignment = None\n",
    "\n",
    "X_train, X_test, y_train, y_test = train_test_split(data, y, test_size=0.2, random_state=123)\n",
    "\n",
    "print('Train groupe shape: ', X_train.shape)\n",
    "print('Test group shape: ', X_test.shape)"
   ]
  },
  {
   "cell_type": "code",
   "execution_count": 46,
   "metadata": {},
   "outputs": [
    {
     "name": "stdout",
     "output_type": "stream",
     "text": [
      "RandomForestClassifier(bootstrap=True, ccp_alpha=0.0, class_weight=None,\n",
      "                       criterion='gini', max_depth=None, max_features='auto',\n",
      "                       max_leaf_nodes=None, max_samples=None,\n",
      "                       min_impurity_decrease=0.0, min_impurity_split=None,\n",
      "                       min_samples_leaf=1, min_samples_split=2,\n",
      "                       min_weight_fraction_leaf=0.0, n_estimators=500,\n",
      "                       n_jobs=None, oob_score=False, random_state=123,\n",
      "                       verbose=0, warm_start=False)\n"
     ]
    }
   ],
   "source": [
    "#Ajout de colones\n",
    "X_train.loc[:, ('Train_or_test')] = 1\n",
    "X_test.loc[:, ('Train_or_test')] = 0\n",
    "\n",
    "#Rassemblement des données dans une nouvelle dataframe\n",
    "concat_df = pd.concat([X_train, X_test],axis=0)\n",
    "\n",
    "#Extraction de la variable qui nous interesse\n",
    "y = concat_df.pop('Train_or_test')\n",
    "\n",
    "#Creation du modele\n",
    "random_forest = RandomForestClassifier(n_estimators=500, random_state=123)\n",
    "\n",
    "#Fitting du model\n",
    "print(random_forest.fit(concat_df, y))"
   ]
  },
  {
   "cell_type": "code",
   "execution_count": 47,
   "metadata": {},
   "outputs": [
    {
     "name": "stdout",
     "output_type": "stream",
     "text": [
      "1.0\n"
     ]
    }
   ],
   "source": [
    "#Obtention des predictions\n",
    "y_pred = random_forest.predict(concat_df)\n",
    "\n",
    "#Obtention de la zone sous la roc curve\n",
    "print(roc_auc_score(y, y_pred))"
   ]
  },
  {
   "cell_type": "markdown",
   "metadata": {},
   "source": [
    "![title](roccurve.png)"
   ]
  },
  {
   "cell_type": "code",
   "execution_count": 43,
   "metadata": {},
   "outputs": [
    {
     "name": "stdout",
     "output_type": "stream",
     "text": [
      "[0.49581306 0.49893858 0.51192366 0.50079462 0.50399772]\n"
     ]
    }
   ],
   "source": [
    "#Evaluation des predictions\n",
    "print(cross_val_score(random_forest, concat_df, y, cv=5, scoring='roc_auc'))"
   ]
  },
  {
   "cell_type": "code",
   "execution_count": null,
   "metadata": {},
   "outputs": [],
   "source": []
  }
 ],
 "metadata": {
  "kernelspec": {
   "display_name": "Python 3",
   "language": "python",
   "name": "python3"
  }
 },
 "nbformat": 4,
 "nbformat_minor": 4
}
